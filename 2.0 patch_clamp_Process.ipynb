{
 "cells": [
  {
   "cell_type": "code",
   "execution_count": 2,
   "id": "7927fb4c-3425-4aea-8427-82f9ad9a4f9b",
   "metadata": {},
   "outputs": [],
   "source": [
    "import pyabf\n",
    "import matplotlib.pyplot as plt\n",
    "import glob, sys, os, re\n",
    "import numpy as np\n",
    "import json\n",
    "import pandas as pd\n",
    "import seaborn as sns\n",
    "import scipy.signal as ss        # Scientific package for signal processing\n",
    "from pathlib import Path\n",
    "from scipy.signal import find_peaks\n",
    "from datetime import datetime\n",
    "from scipy.ndimage import gaussian_filter1d\n",
    "from PIL import Image\n",
    "from tqdm.notebook import tqdm\n",
    "from scipy import stats"
   ]
  },
  {
   "cell_type": "code",
   "execution_count": 3,
   "id": "9c5cde76-12e3-4057-aa29-2321b5d53a58",
   "metadata": {},
   "outputs": [],
   "source": [
    "df=pd.read_csv('recordings.csv', index_col=0)\n",
    "df = df[(df['isValid']==1) & (df['protocol']=='current_clamp')]"
   ]
  },
  {
   "cell_type": "code",
   "execution_count": 4,
   "id": "998157f7-d9d8-4f2b-9231-3efefff470e2",
   "metadata": {},
   "outputs": [
    {
     "data": {
      "text/html": [
       "<div>\n",
       "<style scoped>\n",
       "    .dataframe tbody tr th:only-of-type {\n",
       "        vertical-align: middle;\n",
       "    }\n",
       "\n",
       "    .dataframe tbody tr th {\n",
       "        vertical-align: top;\n",
       "    }\n",
       "\n",
       "    .dataframe thead th {\n",
       "        text-align: right;\n",
       "    }\n",
       "</style>\n",
       "<table border=\"1\" class=\"dataframe\">\n",
       "  <thead>\n",
       "    <tr style=\"text-align: right;\">\n",
       "      <th></th>\n",
       "      <th>Date</th>\n",
       "      <th>Line</th>\n",
       "      <th>age label</th>\n",
       "      <th>cell</th>\n",
       "      <th>uid</th>\n",
       "      <th>protocol</th>\n",
       "      <th>fname</th>\n",
       "      <th>dataLengthSec</th>\n",
       "      <th>sweepCount</th>\n",
       "      <th>cap</th>\n",
       "      <th>type</th>\n",
       "      <th>first_diff</th>\n",
       "      <th>age</th>\n",
       "      <th>age_group</th>\n",
       "      <th>isValid</th>\n",
       "    </tr>\n",
       "  </thead>\n",
       "  <tbody>\n",
       "    <tr>\n",
       "      <th>17</th>\n",
       "      <td>2021-06-25 21:58:48.250</td>\n",
       "      <td>JNJ008 (diff 07062021)</td>\n",
       "      <td>JNJ008 day 18</td>\n",
       "      <td>cell1 20pf</td>\n",
       "      <td>-3438561007472911673</td>\n",
       "      <td>current_clamp</td>\n",
       "      <td>data\\JNJ008 (diff 07062021)\\JNJ008 day 18\\cell...</td>\n",
       "      <td>46.8</td>\n",
       "      <td>38</td>\n",
       "      <td>20.0</td>\n",
       "      <td>Control</td>\n",
       "      <td>2021-06-07 00:00:00.000</td>\n",
       "      <td>18</td>\n",
       "      <td>2-3 weeks</td>\n",
       "      <td>1.0</td>\n",
       "    </tr>\n",
       "    <tr>\n",
       "      <th>38</th>\n",
       "      <td>2021-07-22 11:41:16.023</td>\n",
       "      <td>JNJ008 (diff 07062021)</td>\n",
       "      <td>JNJ008 day 45</td>\n",
       "      <td>cell1-35pf</td>\n",
       "      <td>-634694093113451121</td>\n",
       "      <td>current_clamp</td>\n",
       "      <td>data\\JNJ008 (diff 07062021)\\JNJ008 day 45\\cell...</td>\n",
       "      <td>46.8</td>\n",
       "      <td>38</td>\n",
       "      <td>35.0</td>\n",
       "      <td>Control</td>\n",
       "      <td>2021-06-07 00:00:00.000</td>\n",
       "      <td>45</td>\n",
       "      <td>5-6 weeks</td>\n",
       "      <td>1.0</td>\n",
       "    </tr>\n",
       "    <tr>\n",
       "      <th>43</th>\n",
       "      <td>2021-07-22 11:56:41.876</td>\n",
       "      <td>JNJ008 (diff 07062021)</td>\n",
       "      <td>JNJ008 day 45</td>\n",
       "      <td>cell2-32pf</td>\n",
       "      <td>5501609899512410291</td>\n",
       "      <td>current_clamp</td>\n",
       "      <td>data\\JNJ008 (diff 07062021)\\JNJ008 day 45\\cell...</td>\n",
       "      <td>46.8</td>\n",
       "      <td>38</td>\n",
       "      <td>32.0</td>\n",
       "      <td>Control</td>\n",
       "      <td>2021-06-07 00:00:00.000</td>\n",
       "      <td>45</td>\n",
       "      <td>5-6 weeks</td>\n",
       "      <td>1.0</td>\n",
       "    </tr>\n",
       "    <tr>\n",
       "      <th>50</th>\n",
       "      <td>2021-07-22 12:16:11.466</td>\n",
       "      <td>JNJ008 (diff 07062021)</td>\n",
       "      <td>JNJ008 day 45</td>\n",
       "      <td>cell3-42pf</td>\n",
       "      <td>5889560095625803792</td>\n",
       "      <td>current_clamp</td>\n",
       "      <td>data\\JNJ008 (diff 07062021)\\JNJ008 day 45\\cell...</td>\n",
       "      <td>46.8</td>\n",
       "      <td>38</td>\n",
       "      <td>42.0</td>\n",
       "      <td>Control</td>\n",
       "      <td>2021-06-07 00:00:00.000</td>\n",
       "      <td>45</td>\n",
       "      <td>5-6 weeks</td>\n",
       "      <td>1.0</td>\n",
       "    </tr>\n",
       "    <tr>\n",
       "      <th>56</th>\n",
       "      <td>2021-07-22 13:11:05.785</td>\n",
       "      <td>JNJ008 (diff 07062021)</td>\n",
       "      <td>JNJ008 day 45</td>\n",
       "      <td>cell4-33pf</td>\n",
       "      <td>-6276495275048037809</td>\n",
       "      <td>current_clamp</td>\n",
       "      <td>data\\JNJ008 (diff 07062021)\\JNJ008 day 45\\cell...</td>\n",
       "      <td>46.8</td>\n",
       "      <td>38</td>\n",
       "      <td>33.0</td>\n",
       "      <td>Control</td>\n",
       "      <td>2021-06-07 00:00:00.000</td>\n",
       "      <td>45</td>\n",
       "      <td>5-6 weeks</td>\n",
       "      <td>1.0</td>\n",
       "    </tr>\n",
       "  </tbody>\n",
       "</table>\n",
       "</div>"
      ],
      "text/plain": [
       "                       Date                    Line      age label  \\\n",
       "17  2021-06-25 21:58:48.250  JNJ008 (diff 07062021)  JNJ008 day 18   \n",
       "38  2021-07-22 11:41:16.023  JNJ008 (diff 07062021)  JNJ008 day 45   \n",
       "43  2021-07-22 11:56:41.876  JNJ008 (diff 07062021)  JNJ008 day 45   \n",
       "50  2021-07-22 12:16:11.466  JNJ008 (diff 07062021)  JNJ008 day 45   \n",
       "56  2021-07-22 13:11:05.785  JNJ008 (diff 07062021)  JNJ008 day 45   \n",
       "\n",
       "          cell                  uid       protocol  \\\n",
       "17  cell1 20pf -3438561007472911673  current_clamp   \n",
       "38  cell1-35pf  -634694093113451121  current_clamp   \n",
       "43  cell2-32pf  5501609899512410291  current_clamp   \n",
       "50  cell3-42pf  5889560095625803792  current_clamp   \n",
       "56  cell4-33pf -6276495275048037809  current_clamp   \n",
       "\n",
       "                                                fname  dataLengthSec  \\\n",
       "17  data\\JNJ008 (diff 07062021)\\JNJ008 day 18\\cell...           46.8   \n",
       "38  data\\JNJ008 (diff 07062021)\\JNJ008 day 45\\cell...           46.8   \n",
       "43  data\\JNJ008 (diff 07062021)\\JNJ008 day 45\\cell...           46.8   \n",
       "50  data\\JNJ008 (diff 07062021)\\JNJ008 day 45\\cell...           46.8   \n",
       "56  data\\JNJ008 (diff 07062021)\\JNJ008 day 45\\cell...           46.8   \n",
       "\n",
       "    sweepCount   cap     type               first_diff  age  age_group  \\\n",
       "17          38  20.0  Control  2021-06-07 00:00:00.000   18  2-3 weeks   \n",
       "38          38  35.0  Control  2021-06-07 00:00:00.000   45  5-6 weeks   \n",
       "43          38  32.0  Control  2021-06-07 00:00:00.000   45  5-6 weeks   \n",
       "50          38  42.0  Control  2021-06-07 00:00:00.000   45  5-6 weeks   \n",
       "56          38  33.0  Control  2021-06-07 00:00:00.000   45  5-6 weeks   \n",
       "\n",
       "    isValid  \n",
       "17      1.0  \n",
       "38      1.0  \n",
       "43      1.0  \n",
       "50      1.0  \n",
       "56      1.0  "
      ]
     },
     "execution_count": 4,
     "metadata": {},
     "output_type": "execute_result"
    }
   ],
   "source": [
    "df.head()"
   ]
  },
  {
   "cell_type": "code",
   "execution_count": 5,
   "id": "ad65e6fe-6edb-4f4f-ac40-5c7fb8cbecaa",
   "metadata": {},
   "outputs": [
    {
     "data": {
      "text/plain": [
       "{'JNJ008 (diff 07062021)',\n",
       " 'JNJ008_PROX1 (diff 04112021)',\n",
       " 'JNJ009 (diff 07062021)',\n",
       " 'SND4652#2 (diff 15072021)',\n",
       " 'SND4652#2_PROX1 (diff 15112021)'}"
      ]
     },
     "execution_count": 5,
     "metadata": {},
     "output_type": "execute_result"
    }
   ],
   "source": [
    "set(df.Line)"
   ]
  },
  {
   "cell_type": "code",
   "execution_count": 6,
   "id": "6fb2431f-030a-4f18-b240-60e9e32a7a3a",
   "metadata": {},
   "outputs": [
    {
     "data": {
      "text/plain": [
       "(80, 15)"
      ]
     },
     "execution_count": 6,
     "metadata": {},
     "output_type": "execute_result"
    }
   ],
   "source": [
    "df.shape"
   ]
  },
  {
   "cell_type": "markdown",
   "id": "524083ec-970a-42cb-aeef-98badd16cb5c",
   "metadata": {
    "tags": []
   },
   "source": [
    "# AP peaks detection "
   ]
  },
  {
   "cell_type": "code",
   "execution_count": 7,
   "id": "380de699-c254-40b2-ae3a-9e4be94ce9ff",
   "metadata": {},
   "outputs": [
    {
     "data": {
      "application/vnd.jupyter.widget-view+json": {
       "model_id": "65b08dfdbb7541c2af2b9cc0d70d34fc",
       "version_major": 2,
       "version_minor": 0
      },
      "text/plain": [
       "  0%|          | 0/80 [00:00<?, ?it/s]"
      ]
     },
     "metadata": {},
     "output_type": "display_data"
    }
   ],
   "source": [
    "all_peak=[] # place holder to collect peaks indecis\n",
    "\n",
    "for idx, row in tqdm(df.loc[:].iterrows(), total=df.shape[0]): \n",
    "    fig, (ax1, ax2) = plt.subplots(1,2,figsize=(40, 20))\n",
    "\n",
    "    abf = pyabf.ABF(row['fname'])\n",
    "    \n",
    "    for sweep in abf.sweepList: #abf.sweepCount):\n",
    "\n",
    "        abf.setSweep(sweep)   \n",
    "\n",
    "        mask = np.zeros((abf.sweepPointCount-2,))\n",
    "        ind_range = np.argwhere(abf.sweepC > 0).T[0][150:-100]\n",
    "        mask[ind_range] = 1\n",
    "        # mask = np.ones((abf.sweepPointCount-1,))\n",
    "\n",
    "        x = abf.sweepY \n",
    "        xf = gaussian_filter1d(x,180)\n",
    "        divY = np.diff(xf,n=2)  * (abf.dataRate / 1000) * mask # V/s\n",
    "        \n",
    "        # divPeaks, properties = find_peaks( divY , prominence=[10, None], )#, width=[5, None])\n",
    "        divPeaks, properties = find_peaks(- 1000*divY ,  height=0.2,  width=[100, 800], prominence=[4, None], threshold=None, distance=100)\n",
    "\n",
    "        peaks = []\n",
    "        for dP in divPeaks: \n",
    "            prefix_offset = max(0,dP-200)\n",
    "            peaksInWindow, properties = find_peaks( x[prefix_offset:dP+1000] , prominence=[1, None], width=[50, None])\n",
    "            if (peaksInWindow.shape[0]>0): \n",
    "                if (prefix_offset + peaksInWindow[0] <14900) : # make sure to drop the peaks at the end-edge \n",
    "                    peaks.append(prefix_offset + peaksInWindow[0])\n",
    "        \n",
    "        for p in list(set(peaks)): \n",
    "            all_peak.append({\"idx\" : idx, \n",
    "                             \"sweep\": sweep, \n",
    "                             \"evoked_AP\": p})           \n",
    "        \n",
    "        offset = 5*sweep\n",
    "        ax1.plot(x +offset)\n",
    "        ax1.plot(peaks, x[peaks]+offset, \"s\", markersize =8)\n",
    "        ax1.set_xlim(7000, 16000)\n",
    "        \n",
    "        # ax2.plot(xf +offset)\n",
    "        # ax2.plot(peaks, xf[peaks]+offset, \"s\", markersize =8)\n",
    "        # ax2.set_xlim(7000, 16000)\n",
    "        \n",
    "        ax2.plot(divY+offset/1000 , linestyle = '-')\n",
    "        ax2.plot(divPeaks, divY[divPeaks]+offset/1000, \"o\", markersize =6)\n",
    "        ax2.set_xlim(7000, 16000)\n",
    "        \n",
    "\n",
    "    ax1.set_title('idx: '+ str(idx) + '\\n' + row['fname'])\n",
    "    # ax2.set_title('Smooth signal')\n",
    "    ax2.set_title('2nd derivative')\n",
    "    plt.savefig(r'ap_peaks\\{0}_{1}.png'.format(os.path.split(abf.abfFilePath)[-1][:-4], idx )) \n",
    "    plt.close()\n",
    "    \n",
    "    \n",
    "pd.DataFrame(all_peak).to_json('evoked_AP_all_peaks.json')   \n"
   ]
  },
  {
   "cell_type": "code",
   "execution_count": null,
   "id": "a359beed-cb61-4a17-b502-d9ce8b1fb7a9",
   "metadata": {},
   "outputs": [],
   "source": []
  },
  {
   "cell_type": "markdown",
   "id": "d66bb502-66bc-4f68-98d6-12e9a90b3e92",
   "metadata": {
    "tags": []
   },
   "source": [
    "## Peaks count"
   ]
  },
  {
   "cell_type": "code",
   "execution_count": 9,
   "id": "c8a07509-687f-49b2-84dd-388bc524bb0d",
   "metadata": {},
   "outputs": [],
   "source": [
    "all_peak_df = pd.read_json('evoked_AP_all_peaks.json')"
   ]
  },
  {
   "cell_type": "code",
   "execution_count": 10,
   "id": "11bbe257-5fea-4dd6-a734-ec63926a6b68",
   "metadata": {},
   "outputs": [],
   "source": [
    "## Total_Evoked\n",
    "for k, val in all_peak_df.groupby('idx').count()['evoked_AP'].iteritems(): \n",
    "    df.loc[k,'Total_Evoked'] = val"
   ]
  },
  {
   "cell_type": "code",
   "execution_count": 11,
   "id": "174b4d54-2e91-4493-8742-cb52628344af",
   "metadata": {},
   "outputs": [],
   "source": [
    "## max evoked of AP for each sweep and the AP threshold \n",
    "for idx,sub_df in all_peak_df.groupby('idx'): \n",
    "    max_ap=sub_df.groupby('sweep').count()['evoked_AP'].max()\n",
    "    sweep_th = sub_df.groupby('sweep').count().sort_values('evoked_AP').iloc[0].name\n",
    "    df.loc[idx,'max_Evoked'] = max_ap\n",
    "    df.loc[idx,'sweep_threshold'] = sweep_th\n",
    "    "
   ]
  },
  {
   "cell_type": "code",
   "execution_count": 12,
   "id": "f4399947-188d-4ff8-92ce-5a865f7fa067",
   "metadata": {},
   "outputs": [],
   "source": [
    "df.to_csv('recordings_current_clamp.csv')"
   ]
  },
  {
   "cell_type": "markdown",
   "id": "c3be783b-03de-406c-a6f9-7447ca09bfad",
   "metadata": {
    "tags": []
   },
   "source": [
    "# Spike shape analysis "
   ]
  },
  {
   "cell_type": "code",
   "execution_count": 13,
   "id": "350182bd-13de-45ae-bedb-099bf3a95b06",
   "metadata": {},
   "outputs": [],
   "source": [
    "def plot_peak_properties(x, label=None): \n",
    "    \n",
    "    # first_peak_x, first_peak_properties = find_peaks(first_peak, prominence=[20, None], width=[20, None])\n",
    "    \n",
    "    peaks, properties = find_peaks(x, prominence=[1, None], width=[5, None])\n",
    "    if len(peaks)>0: \n",
    "        fig, ax = plt.subplots(1,1)\n",
    "        ax.plot(x)\n",
    "        ax.plot(peaks, x[peaks], \"x\")\n",
    "        ax.vlines(x=peaks, ymin=x[peaks] - properties[\"prominences\"], ymax = x[peaks], color = \"C1\")\n",
    "        ax.hlines(y=properties[\"width_heights\"], xmin=properties[\"left_ips\"], xmax=properties[\"right_ips\"], color = \"C1\")\n",
    "        ax.text(properties[\"right_ips\"][0]+50, properties[\"width_heights\"][-1], 'Height:{:.2f}\\nWidth:{:.2f}'.format(properties['prominences'][0], properties['widths'][0]))\n",
    "\n",
    "        if label: \n",
    "            fig.savefig(r'ap_peaks\\shape_analysis\\shape_{0}.png'.format(label)) \n",
    "            plt.close()\n",
    "\n",
    "            # np.savetxt(r'ap_peaks\\shape_analysis\\shape_{0}.txt'.format(label),x, delimiter =\", \")\n",
    "\n",
    "        else: \n",
    "            plt.show()\n",
    "        return properties"
   ]
  },
  {
   "cell_type": "code",
   "execution_count": 14,
   "id": "a45e3fa5-2ffe-4962-bc3d-9b912480da7c",
   "metadata": {},
   "outputs": [
    {
     "data": {
      "text/html": [
       "<div>\n",
       "<style scoped>\n",
       "    .dataframe tbody tr th:only-of-type {\n",
       "        vertical-align: middle;\n",
       "    }\n",
       "\n",
       "    .dataframe tbody tr th {\n",
       "        vertical-align: top;\n",
       "    }\n",
       "\n",
       "    .dataframe thead th {\n",
       "        text-align: right;\n",
       "    }\n",
       "</style>\n",
       "<table border=\"1\" class=\"dataframe\">\n",
       "  <thead>\n",
       "    <tr style=\"text-align: right;\">\n",
       "      <th></th>\n",
       "      <th>idx</th>\n",
       "      <th>sweep</th>\n",
       "      <th>evoked_AP</th>\n",
       "    </tr>\n",
       "  </thead>\n",
       "  <tbody>\n",
       "    <tr>\n",
       "      <th>0</th>\n",
       "      <td>17</td>\n",
       "      <td>9</td>\n",
       "      <td>9027</td>\n",
       "    </tr>\n",
       "    <tr>\n",
       "      <th>1</th>\n",
       "      <td>17</td>\n",
       "      <td>10</td>\n",
       "      <td>8500</td>\n",
       "    </tr>\n",
       "    <tr>\n",
       "      <th>2</th>\n",
       "      <td>17</td>\n",
       "      <td>11</td>\n",
       "      <td>8266</td>\n",
       "    </tr>\n",
       "    <tr>\n",
       "      <th>3</th>\n",
       "      <td>17</td>\n",
       "      <td>12</td>\n",
       "      <td>8210</td>\n",
       "    </tr>\n",
       "    <tr>\n",
       "      <th>4</th>\n",
       "      <td>17</td>\n",
       "      <td>13</td>\n",
       "      <td>8015</td>\n",
       "    </tr>\n",
       "  </tbody>\n",
       "</table>\n",
       "</div>"
      ],
      "text/plain": [
       "   idx  sweep  evoked_AP\n",
       "0   17      9       9027\n",
       "1   17     10       8500\n",
       "2   17     11       8266\n",
       "3   17     12       8210\n",
       "4   17     13       8015"
      ]
     },
     "execution_count": 14,
     "metadata": {},
     "output_type": "execute_result"
    }
   ],
   "source": [
    "all_peak_df.head()"
   ]
  },
  {
   "cell_type": "code",
   "execution_count": 15,
   "id": "9e2cd8cf-4647-4aea-a7a6-6b0f13a9a20c",
   "metadata": {},
   "outputs": [
    {
     "data": {
      "application/vnd.jupyter.widget-view+json": {
       "model_id": "4dd88971deac4e3a9fe94305b988cfdc",
       "version_major": 2,
       "version_minor": 0
      },
      "text/plain": [
       "  0%|          | 0/80 [00:00<?, ?it/s]"
      ]
     },
     "metadata": {},
     "output_type": "display_data"
    }
   ],
   "source": [
    "peak_shape_dict={}\n",
    "\n",
    "for idx,sub_df in tqdm(all_peak_df.iloc[:].groupby('idx'), total=len(list(set(all_peak_df['idx'])))): \n",
    "    # load abf file\n",
    "    abf = pyabf.ABF(df.loc[idx,'fname'])\n",
    "    \n",
    "    for k, row in sub_df.iterrows():  # for each sweep with peaks detected\n",
    "        \n",
    "        sweep = row['sweep']\n",
    "        abf.setSweep(round(sweep))   \n",
    "        x = abf.sweepY\n",
    "        peak_idx = round(row['evoked_AP'])\n",
    "        # take interval around detected peak, calculate papameters and save samples\n",
    "        peak_interval =x[max(0,peak_idx-500):min(peak_idx+500, len(x))]\n",
    "        peak_properties= plot_peak_properties(peak_interval,label=str((round(idx), round(sweep), round(row['evoked_AP']))))\n",
    "        \n",
    "        for key, value in peak_properties.items(): \n",
    "            all_peak_df.loc[k, key] = value[0]\n",
    "            # peak_shape_dict[(idx, sweep, round(row['evoked_AP']))]= peak_interval\n",
    "            np.savetxt(r'ap_peaks\\shape_analysis\\ap_shape_{}.txt'.format(str((idx, round(sweep), round(row['evoked_AP'])))),peak_interval, delimiter =\", \")\n",
    "            \n",
    "            \n"
   ]
  },
  {
   "cell_type": "code",
   "execution_count": 18,
   "id": "4dd95104-7f77-4857-9819-ac0d3e6abb43",
   "metadata": {},
   "outputs": [
    {
     "data": {
      "text/html": [
       "<div>\n",
       "<style scoped>\n",
       "    .dataframe tbody tr th:only-of-type {\n",
       "        vertical-align: middle;\n",
       "    }\n",
       "\n",
       "    .dataframe tbody tr th {\n",
       "        vertical-align: top;\n",
       "    }\n",
       "\n",
       "    .dataframe thead th {\n",
       "        text-align: right;\n",
       "    }\n",
       "</style>\n",
       "<table border=\"1\" class=\"dataframe\">\n",
       "  <thead>\n",
       "    <tr style=\"text-align: right;\">\n",
       "      <th></th>\n",
       "      <th>idx</th>\n",
       "      <th>sweep</th>\n",
       "      <th>evoked_AP</th>\n",
       "      <th>prominences</th>\n",
       "      <th>left_bases</th>\n",
       "      <th>right_bases</th>\n",
       "      <th>widths</th>\n",
       "      <th>width_heights</th>\n",
       "      <th>left_ips</th>\n",
       "      <th>right_ips</th>\n",
       "    </tr>\n",
       "  </thead>\n",
       "  <tbody>\n",
       "    <tr>\n",
       "      <th>0</th>\n",
       "      <td>17</td>\n",
       "      <td>9</td>\n",
       "      <td>9027</td>\n",
       "      <td>21.942139</td>\n",
       "      <td>0.0</td>\n",
       "      <td>968.0</td>\n",
       "      <td>285.050000</td>\n",
       "      <td>-11.367798</td>\n",
       "      <td>302.250000</td>\n",
       "      <td>587.300000</td>\n",
       "    </tr>\n",
       "    <tr>\n",
       "      <th>1</th>\n",
       "      <td>17</td>\n",
       "      <td>10</td>\n",
       "      <td>8500</td>\n",
       "      <td>34.576416</td>\n",
       "      <td>2.0</td>\n",
       "      <td>915.0</td>\n",
       "      <td>275.053571</td>\n",
       "      <td>-13.412476</td>\n",
       "      <td>329.875000</td>\n",
       "      <td>604.928571</td>\n",
       "    </tr>\n",
       "    <tr>\n",
       "      <th>2</th>\n",
       "      <td>17</td>\n",
       "      <td>11</td>\n",
       "      <td>8266</td>\n",
       "      <td>39.031982</td>\n",
       "      <td>0.0</td>\n",
       "      <td>906.0</td>\n",
       "      <td>245.354167</td>\n",
       "      <td>-12.863159</td>\n",
       "      <td>379.083333</td>\n",
       "      <td>624.437500</td>\n",
       "    </tr>\n",
       "    <tr>\n",
       "      <th>3</th>\n",
       "      <td>17</td>\n",
       "      <td>12</td>\n",
       "      <td>8210</td>\n",
       "      <td>35.308838</td>\n",
       "      <td>0.0</td>\n",
       "      <td>889.0</td>\n",
       "      <td>235.151786</td>\n",
       "      <td>-11.154175</td>\n",
       "      <td>402.062500</td>\n",
       "      <td>637.214286</td>\n",
       "    </tr>\n",
       "    <tr>\n",
       "      <th>4</th>\n",
       "      <td>17</td>\n",
       "      <td>13</td>\n",
       "      <td>8015</td>\n",
       "      <td>37.139893</td>\n",
       "      <td>0.0</td>\n",
       "      <td>886.0</td>\n",
       "      <td>213.888889</td>\n",
       "      <td>-8.468628</td>\n",
       "      <td>425.500000</td>\n",
       "      <td>639.388889</td>\n",
       "    </tr>\n",
       "  </tbody>\n",
       "</table>\n",
       "</div>"
      ],
      "text/plain": [
       "   idx  sweep  evoked_AP  prominences  left_bases  right_bases      widths  \\\n",
       "0   17      9       9027    21.942139         0.0        968.0  285.050000   \n",
       "1   17     10       8500    34.576416         2.0        915.0  275.053571   \n",
       "2   17     11       8266    39.031982         0.0        906.0  245.354167   \n",
       "3   17     12       8210    35.308838         0.0        889.0  235.151786   \n",
       "4   17     13       8015    37.139893         0.0        886.0  213.888889   \n",
       "\n",
       "   width_heights    left_ips   right_ips  \n",
       "0     -11.367798  302.250000  587.300000  \n",
       "1     -13.412476  329.875000  604.928571  \n",
       "2     -12.863159  379.083333  624.437500  \n",
       "3     -11.154175  402.062500  637.214286  \n",
       "4      -8.468628  425.500000  639.388889  "
      ]
     },
     "execution_count": 18,
     "metadata": {},
     "output_type": "execute_result"
    }
   ],
   "source": [
    "all_peak_df.head()"
   ]
  },
  {
   "cell_type": "code",
   "execution_count": 19,
   "id": "03f4372b-0750-4b29-bd9b-d7c1b124b0f3",
   "metadata": {},
   "outputs": [],
   "source": [
    "all_peak_df.to_csv('evoked_AP_all_peaks.csv')"
   ]
  },
  {
   "cell_type": "code",
   "execution_count": null,
   "id": "2c63c02d-b371-45e4-8f05-b64afc588a45",
   "metadata": {},
   "outputs": [],
   "source": [
    "# import itertools\n",
    "\n",
    "# a = ['Control', 'SLC1A4']\n",
    "# b= ['widths', 'prominences']\n",
    "\n",
    "# for c in itertools.product(a,b): \n",
    "#     mean= first_AP_df[first_AP_df['type']==c[0]][c[1]].mean()\n",
    "#     sem = first_AP_df[first_AP_df['type']==c[0]][c[1]].sem()\n",
    "    \n",
    "#     print(f'{c[0]}, {c[1]} : {mean:.2f} ± {sem:.2f}')"
   ]
  },
  {
   "cell_type": "code",
   "execution_count": null,
   "id": "7bbda7c0-9e2b-4a71-b752-36a54c32c924",
   "metadata": {},
   "outputs": [],
   "source": []
  },
  {
   "cell_type": "code",
   "execution_count": 20,
   "id": "55358779-3a8a-49ef-89ba-41e23f634e5b",
   "metadata": {},
   "outputs": [],
   "source": [
    "# flist = list(Path('ap_peaks').glob('*.png'))\n",
    "# FRAMES = [] # Empty list of frames\n",
    "# for f in flist: \n",
    "#     im = Image.open(f)\n",
    "#     FRAMES.append(im)\n",
    "    \n",
    "# FRAMES[0].save('ap_peaks/all.tiff', format=\"tiff\", append_images=FRAMES[1:], save_all=True, duration=500, loop=0, compression='tiff_lzw',)    "
   ]
  }
 ],
 "metadata": {
  "kernelspec": {
   "display_name": "Python 3",
   "language": "python",
   "name": "python3"
  },
  "language_info": {
   "codemirror_mode": {
    "name": "ipython",
    "version": 3
   },
   "file_extension": ".py",
   "mimetype": "text/x-python",
   "name": "python",
   "nbconvert_exporter": "python",
   "pygments_lexer": "ipython3",
   "version": "3.10.0"
  }
 },
 "nbformat": 4,
 "nbformat_minor": 5
}
